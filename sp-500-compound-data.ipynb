{
  "nbformat": 4,
  "nbformat_minor": 0,
  "metadata": {
    "colab": {
      "name": "sp-500-compound-data.ipynb",
      "provenance": [],
      "collapsed_sections": []
    },
    "kernelspec": {
      "name": "python3",
      "display_name": "Python 3"
    },
    "language_info": {
      "name": "python"
    }
  },
  "cells": [
    {
      "cell_type": "code",
      "metadata": {
        "id": "Eqvsper3Dcm7"
      },
      "source": [
        "# Import libraries\n",
        "import os\n",
        "import pandas as pd\n",
        "\n",
        "# Ignore warnings\n",
        "import warnings as wn\n",
        "wn.filterwarnings('ignore')"
      ],
      "execution_count": 1,
      "outputs": []
    },
    {
      "cell_type": "code",
      "metadata": {
        "id": "AQLDht5JJlqX"
      },
      "source": [
        "# Load all the files with the data from 28.02.2011 to 25.03.2021 to the dataframe\n",
        "dir_path = os.path.abspath('old_data')\n",
        "files = [os.path.join(dir_path, f) for f in os.listdir(dir_path) if f.endswith('.xls')]\n",
        "df1 = pd.concat(map(lambda file: pd.read_excel(file, skiprows=6, skipfooter=4), sorted(files)), axis=1)"
      ],
      "execution_count": 2,
      "outputs": []
    },
    {
      "cell_type": "code",
      "metadata": {
        "id": "JUqzOuSmDi9Z"
      },
      "source": [
        "#  Load all the files with the data from 31.12.2020 to 16.09.2021 to the dataframe\n",
        "dir_path = os.path.abspath('new_data')\n",
        "files = [os.path.join(dir_path, f) for f in os.listdir(dir_path) if f.endswith('.xls')]\n",
        "df2 = pd.concat(map(lambda file: pd.read_excel(file, skiprows=6, skipfooter=4), sorted(files)), axis=1, sort=True)"
      ],
      "execution_count": 3,
      "outputs": []
    },
    {
      "cell_type": "code",
      "metadata": {
        "id": "7c2ap09QPRwh"
      },
      "source": [
        "# Append the new data to the old data\n",
        "df3 = df1.append(df2)"
      ],
      "execution_count": 4,
      "outputs": []
    },
    {
      "cell_type": "code",
      "metadata": {
        "id": "WP8R2WtYYNhv"
      },
      "source": [
        "# Remove all the duplicated columns such as \"Effective date\"\n",
        "df3 = df3.loc[:, ~df3.columns.duplicated()]"
      ],
      "execution_count": 5,
      "outputs": []
    },
    {
      "cell_type": "code",
      "metadata": {
        "id": "Dzeb02Jkb18e"
      },
      "source": [
        "# Set the column names to the dataframe\n",
        "df3.columns = [\n",
        "               'date',\n",
        "               'communication_services',\n",
        "               'consumer_discretionary',\n",
        "               'consumer_staples',\n",
        "               'energy',\n",
        "               'financials',\n",
        "               'health_care',\n",
        "               'industrials',\n",
        "               'information_technology',\n",
        "               'materials',\n",
        "               'utilities',\n",
        "               'sp_500',\n",
        "              ]"
      ],
      "execution_count": 6,
      "outputs": []
    },
    {
      "cell_type": "code",
      "metadata": {
        "id": "541oB-e9e3ni"
      },
      "source": [
        "# Remove all the duplicated rows (between 31.12.2020 and 25.03.2021)\n",
        "df3.drop_duplicates(inplace=True)"
      ],
      "execution_count": 7,
      "outputs": []
    },
    {
      "cell_type": "code",
      "metadata": {
        "colab": {
          "base_uri": "https://localhost:8080/",
          "height": 206
        },
        "id": "Brx9ymdyg4zc",
        "outputId": "3f7a0dff-61ad-4394-e348-28c4e0982bac"
      },
      "source": [
        "# Quick look at the cleaned data\n",
        "df3.head()"
      ],
      "execution_count": 8,
      "outputs": [
        {
          "output_type": "execute_result",
          "data": {
            "text/html": [
              "<div>\n",
              "<style scoped>\n",
              "    .dataframe tbody tr th:only-of-type {\n",
              "        vertical-align: middle;\n",
              "    }\n",
              "\n",
              "    .dataframe tbody tr th {\n",
              "        vertical-align: top;\n",
              "    }\n",
              "\n",
              "    .dataframe thead th {\n",
              "        text-align: right;\n",
              "    }\n",
              "</style>\n",
              "<table border=\"1\" class=\"dataframe\">\n",
              "  <thead>\n",
              "    <tr style=\"text-align: right;\">\n",
              "      <th></th>\n",
              "      <th>date</th>\n",
              "      <th>communication_services</th>\n",
              "      <th>consumer_discretionary</th>\n",
              "      <th>consumer_staples</th>\n",
              "      <th>energy</th>\n",
              "      <th>financials</th>\n",
              "      <th>health_care</th>\n",
              "      <th>industrials</th>\n",
              "      <th>information_technology</th>\n",
              "      <th>materials</th>\n",
              "      <th>utilities</th>\n",
              "      <th>sp_500</th>\n",
              "    </tr>\n",
              "  </thead>\n",
              "  <tbody>\n",
              "    <tr>\n",
              "      <th>0</th>\n",
              "      <td>2011-02-28</td>\n",
              "      <td>96.25</td>\n",
              "      <td>118.58</td>\n",
              "      <td>181.26</td>\n",
              "      <td>334.50</td>\n",
              "      <td>87.75</td>\n",
              "      <td>133.37</td>\n",
              "      <td>148.66</td>\n",
              "      <td>58.85</td>\n",
              "      <td>187.83</td>\n",
              "      <td>157.55</td>\n",
              "      <td>2095.78</td>\n",
              "    </tr>\n",
              "    <tr>\n",
              "      <th>1</th>\n",
              "      <td>2011-03-01</td>\n",
              "      <td>94.51</td>\n",
              "      <td>116.51</td>\n",
              "      <td>180.42</td>\n",
              "      <td>329.39</td>\n",
              "      <td>85.83</td>\n",
              "      <td>132.47</td>\n",
              "      <td>145.39</td>\n",
              "      <td>57.86</td>\n",
              "      <td>183.51</td>\n",
              "      <td>156.06</td>\n",
              "      <td>2062.79</td>\n",
              "    </tr>\n",
              "    <tr>\n",
              "      <th>2</th>\n",
              "      <td>2011-03-02</td>\n",
              "      <td>94.84</td>\n",
              "      <td>116.97</td>\n",
              "      <td>179.90</td>\n",
              "      <td>331.03</td>\n",
              "      <td>85.27</td>\n",
              "      <td>132.84</td>\n",
              "      <td>146.05</td>\n",
              "      <td>58.14</td>\n",
              "      <td>183.94</td>\n",
              "      <td>156.45</td>\n",
              "      <td>2066.36</td>\n",
              "    </tr>\n",
              "    <tr>\n",
              "      <th>3</th>\n",
              "      <td>2011-03-03</td>\n",
              "      <td>96.06</td>\n",
              "      <td>118.93</td>\n",
              "      <td>181.79</td>\n",
              "      <td>336.14</td>\n",
              "      <td>87.10</td>\n",
              "      <td>135.48</td>\n",
              "      <td>149.51</td>\n",
              "      <td>59.11</td>\n",
              "      <td>187.60</td>\n",
              "      <td>157.94</td>\n",
              "      <td>2101.99</td>\n",
              "    </tr>\n",
              "    <tr>\n",
              "      <th>4</th>\n",
              "      <td>2011-03-04</td>\n",
              "      <td>95.23</td>\n",
              "      <td>118.11</td>\n",
              "      <td>180.97</td>\n",
              "      <td>333.99</td>\n",
              "      <td>85.95</td>\n",
              "      <td>135.40</td>\n",
              "      <td>147.78</td>\n",
              "      <td>58.71</td>\n",
              "      <td>186.26</td>\n",
              "      <td>157.03</td>\n",
              "      <td>2086.50</td>\n",
              "    </tr>\n",
              "  </tbody>\n",
              "</table>\n",
              "</div>"
            ],
            "text/plain": [
              "        date  communication_services  ...  utilities   sp_500\n",
              "0 2011-02-28                   96.25  ...     157.55  2095.78\n",
              "1 2011-03-01                   94.51  ...     156.06  2062.79\n",
              "2 2011-03-02                   94.84  ...     156.45  2066.36\n",
              "3 2011-03-03                   96.06  ...     157.94  2101.99\n",
              "4 2011-03-04                   95.23  ...     157.03  2086.50\n",
              "\n",
              "[5 rows x 12 columns]"
            ]
          },
          "metadata": {},
          "execution_count": 8
        }
      ]
    },
    {
      "cell_type": "code",
      "metadata": {
        "id": "qgK1bhWRYqfc"
      },
      "source": [
        "# Save the compound and cleaned data to CSV file\n",
        "save_path = os.path.abspath('sp-500-compound-data.csv')\n",
        "df3.to_csv(save_path, index=False)"
      ],
      "execution_count": 9,
      "outputs": []
    }
  ]
}